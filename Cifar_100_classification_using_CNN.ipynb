{
  "nbformat": 4,
  "nbformat_minor": 0,
  "metadata": {
    "colab": {
      "provenance": [],
      "gpuType": "T4"
    },
    "kernelspec": {
      "name": "python3",
      "display_name": "Python 3"
    },
    "language_info": {
      "name": "python"
    },
    "accelerator": "GPU"
  },
  "cells": [
    {
      "cell_type": "code",
      "execution_count": 1,
      "metadata": {
        "id": "oYywMNo4i381"
      },
      "outputs": [],
      "source": [
        "#importing required libraries\n",
        "import tensorflow as tf\n",
        "from tensorflow.keras import datasets, layers, models\n",
        "import matplotlib.pyplot as plt\n",
        "import numpy as np"
      ]
    },
    {
      "cell_type": "code",
      "source": [
        "#loading datasets\n",
        "(x_train, y_train), (x_test, y_test) = datasets.cifar10.load_data()\n",
        "x_train.shape"
      ],
      "metadata": {
        "colab": {
          "base_uri": "https://localhost:8080/"
        },
        "id": "Gwc3eIzijjzt",
        "outputId": "8dd62533-f2a4-4855-a8f8-092ae57ce2d8"
      },
      "execution_count": 2,
      "outputs": [
        {
          "output_type": "stream",
          "name": "stdout",
          "text": [
            "Downloading data from https://www.cs.toronto.edu/~kriz/cifar-10-python.tar.gz\n",
            "170498071/170498071 [==============================] - 4s 0us/step\n"
          ]
        },
        {
          "output_type": "execute_result",
          "data": {
            "text/plain": [
              "(50000, 32, 32, 3)"
            ]
          },
          "metadata": {},
          "execution_count": 2
        }
      ]
    },
    {
      "cell_type": "code",
      "source": [
        "x_test.shape"
      ],
      "metadata": {
        "colab": {
          "base_uri": "https://localhost:8080/"
        },
        "id": "7AItCE7qkFXG",
        "outputId": "ce1f5781-c39d-436d-be28-8c1726d605ae"
      },
      "execution_count": 3,
      "outputs": [
        {
          "output_type": "execute_result",
          "data": {
            "text/plain": [
              "(10000, 32, 32, 3)"
            ]
          },
          "metadata": {},
          "execution_count": 3
        }
      ]
    },
    {
      "cell_type": "code",
      "source": [
        "x_train[0]"
      ],
      "metadata": {
        "colab": {
          "base_uri": "https://localhost:8080/"
        },
        "id": "iyGa9-WmkOGr",
        "outputId": "6676a8a1-51e8-4824-b765-94ad3cabb957"
      },
      "execution_count": 4,
      "outputs": [
        {
          "output_type": "execute_result",
          "data": {
            "text/plain": [
              "array([[[ 59,  62,  63],\n",
              "        [ 43,  46,  45],\n",
              "        [ 50,  48,  43],\n",
              "        ...,\n",
              "        [158, 132, 108],\n",
              "        [152, 125, 102],\n",
              "        [148, 124, 103]],\n",
              "\n",
              "       [[ 16,  20,  20],\n",
              "        [  0,   0,   0],\n",
              "        [ 18,   8,   0],\n",
              "        ...,\n",
              "        [123,  88,  55],\n",
              "        [119,  83,  50],\n",
              "        [122,  87,  57]],\n",
              "\n",
              "       [[ 25,  24,  21],\n",
              "        [ 16,   7,   0],\n",
              "        [ 49,  27,   8],\n",
              "        ...,\n",
              "        [118,  84,  50],\n",
              "        [120,  84,  50],\n",
              "        [109,  73,  42]],\n",
              "\n",
              "       ...,\n",
              "\n",
              "       [[208, 170,  96],\n",
              "        [201, 153,  34],\n",
              "        [198, 161,  26],\n",
              "        ...,\n",
              "        [160, 133,  70],\n",
              "        [ 56,  31,   7],\n",
              "        [ 53,  34,  20]],\n",
              "\n",
              "       [[180, 139,  96],\n",
              "        [173, 123,  42],\n",
              "        [186, 144,  30],\n",
              "        ...,\n",
              "        [184, 148,  94],\n",
              "        [ 97,  62,  34],\n",
              "        [ 83,  53,  34]],\n",
              "\n",
              "       [[177, 144, 116],\n",
              "        [168, 129,  94],\n",
              "        [179, 142,  87],\n",
              "        ...,\n",
              "        [216, 184, 140],\n",
              "        [151, 118,  84],\n",
              "        [123,  92,  72]]], dtype=uint8)"
            ]
          },
          "metadata": {},
          "execution_count": 4
        }
      ]
    },
    {
      "cell_type": "code",
      "source": [
        "y_train[:10]"
      ],
      "metadata": {
        "colab": {
          "base_uri": "https://localhost:8080/"
        },
        "id": "Nnd7pylGl_Fw",
        "outputId": "b31c2b08-c353-4e24-ebfd-320fd0f0ab13"
      },
      "execution_count": 5,
      "outputs": [
        {
          "output_type": "execute_result",
          "data": {
            "text/plain": [
              "array([[6],\n",
              "       [9],\n",
              "       [9],\n",
              "       [4],\n",
              "       [1],\n",
              "       [1],\n",
              "       [2],\n",
              "       [7],\n",
              "       [8],\n",
              "       [3]], dtype=uint8)"
            ]
          },
          "metadata": {},
          "execution_count": 5
        }
      ]
    },
    {
      "cell_type": "code",
      "source": [
        "y_train = y_train.reshape(-1,)\n",
        "y_train[:10]"
      ],
      "metadata": {
        "colab": {
          "base_uri": "https://localhost:8080/"
        },
        "id": "r8V7wjsVmewc",
        "outputId": "55cb91e3-2e02-47b7-f296-7fa2e745a0e3"
      },
      "execution_count": 6,
      "outputs": [
        {
          "output_type": "execute_result",
          "data": {
            "text/plain": [
              "array([6, 9, 9, 4, 1, 1, 2, 7, 8, 3], dtype=uint8)"
            ]
          },
          "metadata": {},
          "execution_count": 6
        }
      ]
    },
    {
      "cell_type": "code",
      "source": [
        "classes = [\"airplane\",\"automobile\",\"bird\",\"cat\",\"deer\",\"dog\",\"frog\",\"horse\",\"ship\",\"truck\"]"
      ],
      "metadata": {
        "id": "64MpPvZolXja"
      },
      "execution_count": 7,
      "outputs": []
    },
    {
      "cell_type": "code",
      "source": [
        "classes[8]"
      ],
      "metadata": {
        "colab": {
          "base_uri": "https://localhost:8080/",
          "height": 35
        },
        "id": "gpqdt9K5m-y0",
        "outputId": "ee3c5928-c0a0-4e38-f5ac-0895a003b8bc"
      },
      "execution_count": 8,
      "outputs": [
        {
          "output_type": "execute_result",
          "data": {
            "text/plain": [
              "'ship'"
            ],
            "application/vnd.google.colaboratory.intrinsic+json": {
              "type": "string"
            }
          },
          "metadata": {},
          "execution_count": 8
        }
      ]
    },
    {
      "cell_type": "markdown",
      "source": [
        "### Data visualization"
      ],
      "metadata": {
        "id": "S4Cz7yBZncEt"
      }
    },
    {
      "cell_type": "code",
      "source": [
        "def plot_sample(x, y, index):\n",
        "  plt.figure(figsize = (15,2))\n",
        "  plt.imshow(x[index])\n",
        "  plt.xlabel(classes[y[index]])"
      ],
      "metadata": {
        "id": "EppplqLqkRuN"
      },
      "execution_count": 9,
      "outputs": []
    },
    {
      "cell_type": "code",
      "source": [
        "plot_sample(x_train, y_train, 108)"
      ],
      "metadata": {
        "colab": {
          "base_uri": "https://localhost:8080/",
          "height": 237
        },
        "id": "LKrLtDf0kaZQ",
        "outputId": "d5d2f277-a1fd-426b-b649-b555f1c24621"
      },
      "execution_count": 10,
      "outputs": [
        {
          "output_type": "display_data",
          "data": {
            "text/plain": [
              "<Figure size 1500x200 with 1 Axes>"
            ],
            "image/png": "[encoded data removed]"
          },
          "metadata": {}
        }
      ]
    },
    {
      "cell_type": "code",
      "source": [
        "plot_sample(x_train, y_train, 1)"
      ],
      "metadata": {
        "colab": {
          "base_uri": "https://localhost:8080/",
          "height": 237
        },
        "id": "ZtWgsd5tnjKH",
        "outputId": "55a19542-13e0-4146-d91b-17360ab85d6d"
      },
      "execution_count": 11,
      "outputs": [
        {
          "output_type": "display_data",
          "data": {
            "text/plain": [
              "<Figure size 1500x200 with 1 Axes>"
            ],
            "image/png": "[encoded data removed]"
          },
          "metadata": {}
        }
      ]
    },
    {
      "cell_type": "code",
      "source": [
        "plot_sample(x_train, y_train, 6893)"
      ],
      "metadata": {
        "colab": {
          "base_uri": "https://localhost:8080/",
          "height": 237
        },
        "id": "4fg_xgTIn05l",
        "outputId": "6a56431b-125e-4fd7-9484-603f99fe6d33"
      },
      "execution_count": 12,
      "outputs": [
        {
          "output_type": "display_data",
          "data": {
            "text/plain": [
              "<Figure size 1500x200 with 1 Axes>"
            ],
            "image/png": "[encoded data removed]"
          },
          "metadata": {}
        }
      ]
    },
    {
      "cell_type": "code",
      "source": [
        "x_train = x_train / 255\n",
        "x_test = x_test / 255"
      ],
      "metadata": {
        "id": "P2mIHEFSn6Kj"
      },
      "execution_count": 13,
      "outputs": []
    },
    {
      "cell_type": "markdown",
      "source": [
        "## Simple Neural Network (ANN)"
      ],
      "metadata": {
        "id": "rTXq8uwjov9A"
      }
    },
    {
      "cell_type": "code",
      "source": [
        "ann = models.Sequential([\n",
        "    layers.Flatten(input_shape=(32,32,3)),\n",
        "    layers.Dense(3000, activation='relu'),\n",
        "    layers.Dense(1000, activation='relu'),\n",
        "    layers.Dense(10, activation='sigmoid')\n",
        "])\n",
        "\n",
        "ann.compile(optimizer='SGD',\n",
        "            loss='sparse_categorical_crossentropy',\n",
        "            metrics=['accuracy'])\n",
        "\n",
        "ann.fit(x_train, y_train, epochs=5)"
      ],
      "metadata": {
        "colab": {
          "base_uri": "https://localhost:8080/"
        },
        "id": "83b2xpSLoV5T",
        "outputId": "8eb8f9cf-b330-4dfd-cc15-ad3543e5eae4"
      },
      "execution_count": 14,
      "outputs": [
        {
          "output_type": "stream",
          "name": "stdout",
          "text": [
            "Epoch 1/5\n",
            "1563/1563 [==============================] - 10s 5ms/step - loss: 1.8120 - accuracy: 0.3554\n",
            "Epoch 2/5\n",
            "1563/1563 [==============================] - 8s 5ms/step - loss: 1.6222 - accuracy: 0.4278\n",
            "Epoch 3/5\n",
            "1563/1563 [==============================] - 7s 5ms/step - loss: 1.5409 - accuracy: 0.4565\n",
            "Epoch 4/5\n",
            "1563/1563 [==============================] - 8s 5ms/step - loss: 1.4820 - accuracy: 0.4773\n",
            "Epoch 5/5\n",
            "1563/1563 [==============================] - 8s 5ms/step - loss: 1.4331 - accuracy: 0.4968\n"
          ]
        },
        {
          "output_type": "execute_result",
          "data": {
            "text/plain": [
              "<keras.src.callbacks.History at 0x7ec7cc3a3100>"
            ]
          },
          "metadata": {},
          "execution_count": 14
        }
      ]
    },
    {
      "cell_type": "code",
      "source": [
        "ann.evaluate(x_test, y_test)"
      ],
      "metadata": {
        "colab": {
          "base_uri": "https://localhost:8080/"
        },
        "id": "0XKJwKEhp8D2",
        "outputId": "fec15596-3149-4186-eb0c-5b9b619ced2f"
      },
      "execution_count": 15,
      "outputs": [
        {
          "output_type": "stream",
          "name": "stdout",
          "text": [
            "313/313 [==============================] - 1s 3ms/step - loss: 1.4600 - accuracy: 0.4856\n"
          ]
        },
        {
          "output_type": "execute_result",
          "data": {
            "text/plain": [
              "[1.4600087404251099, 0.48559999465942383]"
            ]
          },
          "metadata": {},
          "execution_count": 15
        }
      ]
    },
    {
      "cell_type": "code",
      "source": [
        "from sklearn.metrics import confusion_matrix, classification_report\n",
        "y_pred = ann.predict(x_test)\n",
        "y_pred_classes = [np.argmax(element) for element in y_pred]\n",
        "\n",
        "print(\"Classification Report: \\n\", classification_report(y_test, y_pred_classes))"
      ],
      "metadata": {
        "colab": {
          "base_uri": "https://localhost:8080/"
        },
        "id": "2jP5413zq1B-",
        "outputId": "b1830fbd-56b9-4650-9bff-b42646504e69"
      },
      "execution_count": 17,
      "outputs": [
        {
          "output_type": "stream",
          "name": "stdout",
          "text": [
            "313/313 [==============================] - 1s 2ms/step\n",
            "Classification Report: \n",
            "               precision    recall  f1-score   support\n",
            "\n",
            "           0       0.44      0.68      0.53      1000\n",
            "           1       0.56      0.67      0.61      1000\n",
            "           2       0.36      0.42      0.38      1000\n",
            "           3       0.37      0.36      0.36      1000\n",
            "           4       0.46      0.38      0.42      1000\n",
            "           5       0.46      0.31      0.37      1000\n",
            "           6       0.64      0.34      0.44      1000\n",
            "           7       0.51      0.59      0.55      1000\n",
            "           8       0.66      0.54      0.59      1000\n",
            "           9       0.53      0.58      0.55      1000\n",
            "\n",
            "    accuracy                           0.49     10000\n",
            "   macro avg       0.50      0.49      0.48     10000\n",
            "weighted avg       0.50      0.49      0.48     10000\n",
            "\n"
          ]
        }
      ]
    },
    {
      "cell_type": "markdown",
      "source": [
        "## using CNN"
      ],
      "metadata": {
        "id": "OYJhFKDisCsZ"
      }
    },
    {
      "cell_type": "code",
      "source": [
        "cnn = models.Sequential([\n",
        "    #cnn\n",
        "    layers.Conv2D(filters=32, kernel_size=(3,3), activation='relu', input_shape=(32,32,3)),\n",
        "    layers.MaxPooling2D((2,2)),\n",
        "\n",
        "    layers.Conv2D(filters=64, kernel_size=(3,3), activation='relu'),\n",
        "    layers.MaxPooling2D((2,2)),\n",
        "\n",
        "    #dense\n",
        "    layers.Flatten(),\n",
        "    layers.Dense(64, activation='relu'),\n",
        "    layers.Dense(10, activation='softmax')\n",
        "])"
      ],
      "metadata": {
        "id": "t_YN2bORrtMO"
      },
      "execution_count": 20,
      "outputs": []
    },
    {
      "cell_type": "code",
      "source": [
        "cnn.compile(optimizer='adam',\n",
        "              loss='sparse_categorical_crossentropy',\n",
        "              metrics=['accuracy'])"
      ],
      "metadata": {
        "id": "gmsRozZguGzS"
      },
      "execution_count": 21,
      "outputs": []
    },
    {
      "cell_type": "code",
      "source": [
        "cnn.fit(x_train, y_train, epochs=10)"
      ],
      "metadata": {
        "colab": {
          "base_uri": "https://localhost:8080/"
        },
        "id": "s5aj2XsRusti",
        "outputId": "777c3b3b-4a68-4276-c295-634321de6c77"
      },
      "execution_count": 22,
      "outputs": [
        {
          "output_type": "stream",
          "name": "stdout",
          "text": [
            "Epoch 1/10\n",
            "1563/1563 [==============================] - 12s 5ms/step - loss: 1.4580 - accuracy: 0.4755\n",
            "Epoch 2/10\n",
            "1563/1563 [==============================] - 7s 4ms/step - loss: 1.1135 - accuracy: 0.6085\n",
            "Epoch 3/10\n",
            "1563/1563 [==============================] - 8s 5ms/step - loss: 0.9834 - accuracy: 0.6559\n",
            "Epoch 4/10\n",
            "1563/1563 [==============================] - 7s 4ms/step - loss: 0.8984 - accuracy: 0.6861\n",
            "Epoch 5/10\n",
            "1563/1563 [==============================] - 8s 5ms/step - loss: 0.8332 - accuracy: 0.7095\n",
            "Epoch 6/10\n",
            "1563/1563 [==============================] - 7s 4ms/step - loss: 0.7788 - accuracy: 0.7296\n",
            "Epoch 7/10\n",
            "1563/1563 [==============================] - 10s 6ms/step - loss: 0.7331 - accuracy: 0.7437\n",
            "Epoch 8/10\n",
            "1563/1563 [==============================] - 11s 7ms/step - loss: 0.6892 - accuracy: 0.7593\n",
            "Epoch 9/10\n",
            "1563/1563 [==============================] - 9s 6ms/step - loss: 0.6525 - accuracy: 0.7722\n",
            "Epoch 10/10\n",
            "1563/1563 [==============================] - 7s 4ms/step - loss: 0.6137 - accuracy: 0.7856\n"
          ]
        },
        {
          "output_type": "execute_result",
          "data": {
            "text/plain": [
              "<keras.src.callbacks.History at 0x7ec6e4400460>"
            ]
          },
          "metadata": {},
          "execution_count": 22
        }
      ]
    },
    {
      "cell_type": "code",
      "source": [
        "cnn.evaluate(x_test,y_test)"
      ],
      "metadata": {
        "colab": {
          "base_uri": "https://localhost:8080/"
        },
        "id": "RRRmy_JnuzWK",
        "outputId": "2fdd4d56-dbd0-4bf4-f040-62648d8036a5"
      },
      "execution_count": 23,
      "outputs": [
        {
          "output_type": "stream",
          "name": "stdout",
          "text": [
            "313/313 [==============================] - 1s 3ms/step - loss: 0.9312 - accuracy: 0.7017\n"
          ]
        },
        {
          "output_type": "execute_result",
          "data": {
            "text/plain": [
              "[0.9312453866004944, 0.70169997215271]"
            ]
          },
          "metadata": {},
          "execution_count": 23
        }
      ]
    },
    {
      "cell_type": "code",
      "source": [
        "y_test[:5]"
      ],
      "metadata": {
        "colab": {
          "base_uri": "https://localhost:8080/"
        },
        "id": "I_nGJ1zDvqti",
        "outputId": "6efe0bde-c126-4303-d661-6084106b4903"
      },
      "execution_count": 26,
      "outputs": [
        {
          "output_type": "execute_result",
          "data": {
            "text/plain": [
              "array([[3],\n",
              "       [8],\n",
              "       [8],\n",
              "       [0],\n",
              "       [6]], dtype=uint8)"
            ]
          },
          "metadata": {},
          "execution_count": 26
        }
      ]
    },
    {
      "cell_type": "code",
      "source": [
        "y_test = y_test.reshape(-1,)\n",
        "y_test[:5]"
      ],
      "metadata": {
        "colab": {
          "base_uri": "https://localhost:8080/"
        },
        "id": "LXS5MiyLvwlO",
        "outputId": "e58b89f7-3465-4ebb-d815-6b5e2f576b82"
      },
      "execution_count": 27,
      "outputs": [
        {
          "output_type": "execute_result",
          "data": {
            "text/plain": [
              "array([3, 8, 8, 0, 6], dtype=uint8)"
            ]
          },
          "metadata": {},
          "execution_count": 27
        }
      ]
    },
    {
      "cell_type": "code",
      "source": [
        "plot_sample(x_test, y_test, 1)"
      ],
      "metadata": {
        "colab": {
          "base_uri": "https://localhost:8080/",
          "height": 237
        },
        "id": "bs53d_PLvPM1",
        "outputId": "4ea04a58-d6c0-4edd-974f-964bf57ba7a8"
      },
      "execution_count": 39,
      "outputs": [
        {
          "output_type": "display_data",
          "data": {
            "text/plain": [
              "<Figure size 1500x200 with 1 Axes>"
            ],
            "image/png": "[encoded data removed]"
          },
          "metadata": {}
        }
      ]
    },
    {
      "cell_type": "code",
      "source": [
        "y_pred = cnn.predict(x_test)\n",
        "y_pred[:5]"
      ],
      "metadata": {
        "colab": {
          "base_uri": "https://localhost:8080/"
        },
        "id": "CExoZ5FlwBAr",
        "outputId": "2d9a93f1-fabb-4817-ad34-9413edcd644f"
      },
      "execution_count": 33,
      "outputs": [
        {
          "output_type": "stream",
          "name": "stdout",
          "text": [
            "313/313 [==============================] - 2s 4ms/step\n"
          ]
        },
        {
          "output_type": "execute_result",
          "data": {
            "text/plain": [
              "array([[4.04504226e-06, 7.08151265e-06, 3.02437285e-04, 7.57951319e-01,\n",
              "        1.46425809e-05, 2.39666909e-01, 1.88251399e-03, 6.50201264e-06,\n",
              "        1.63793986e-04, 7.91181662e-07],\n",
              "       [3.59815567e-05, 1.86765231e-02, 5.16682652e-09, 7.26976257e-09,\n",
              "        6.86835831e-12, 1.50983970e-09, 4.56925166e-12, 7.79811458e-12,\n",
              "        9.81284857e-01, 2.58911837e-06],\n",
              "       [1.32631799e-02, 4.53532338e-01, 2.70933757e-04, 1.05952378e-03,\n",
              "        5.77086503e-05, 4.32358414e-04, 3.11835684e-05, 3.71432106e-04,\n",
              "        5.04850507e-01, 2.61308420e-02],\n",
              "       [9.82836545e-01, 1.19405406e-04, 5.51166758e-03, 1.96515721e-05,\n",
              "        8.27490003e-05, 1.78719489e-07, 1.29755492e-07, 8.39884706e-07,\n",
              "        1.14283180e-02, 6.01627676e-07],\n",
              "       [7.09140807e-07, 1.08114045e-06, 2.46595647e-02, 3.00369263e-02,\n",
              "        2.56699294e-01, 8.59551132e-03, 6.79952562e-01, 5.36749103e-05,\n",
              "        7.00659882e-07, 3.26906395e-08]], dtype=float32)"
            ]
          },
          "metadata": {},
          "execution_count": 33
        }
      ]
    },
    {
      "cell_type": "code",
      "source": [
        "y_classes = [np.argmax(element) for element in y_pred]\n",
        "y_classes[:15] #predicted values"
      ],
      "metadata": {
        "colab": {
          "base_uri": "https://localhost:8080/"
        },
        "id": "vFQZlwCywSDI",
        "outputId": "b7eb41bc-c5e4-46e8-a510-89fa8c9b6870"
      },
      "execution_count": 45,
      "outputs": [
        {
          "output_type": "execute_result",
          "data": {
            "text/plain": [
              "[3, 8, 8, 0, 6, 6, 1, 6, 3, 1, 0, 9, 5, 7, 9]"
            ]
          },
          "metadata": {},
          "execution_count": 45
        }
      ]
    },
    {
      "cell_type": "code",
      "source": [
        "y_test[:15] #actual values"
      ],
      "metadata": {
        "colab": {
          "base_uri": "https://localhost:8080/"
        },
        "id": "DShRqgtBwdWk",
        "outputId": "fddcd042-6684-4f6b-f083-393747216d82"
      },
      "execution_count": 46,
      "outputs": [
        {
          "output_type": "execute_result",
          "data": {
            "text/plain": [
              "array([3, 8, 8, 0, 6, 6, 1, 6, 3, 1, 0, 9, 5, 7, 9], dtype=uint8)"
            ]
          },
          "metadata": {},
          "execution_count": 46
        }
      ]
    },
    {
      "cell_type": "code",
      "source": [
        "plot_sample(x_test, y_test, 1)"
      ],
      "metadata": {
        "colab": {
          "base_uri": "https://localhost:8080/",
          "height": 237
        },
        "id": "1WxfZIQNxS3h",
        "outputId": "2af85a0b-f036-495d-a1fc-40542fee4dfa"
      },
      "execution_count": 40,
      "outputs": [
        {
          "output_type": "display_data",
          "data": {
            "text/plain": [
              "<Figure size 1500x200 with 1 Axes>"
            ],
            "image/png": "[encoded data removed]"
          },
          "metadata": {}
        }
      ]
    },
    {
      "cell_type": "code",
      "source": [
        "classes[y_classes[1]]"
      ],
      "metadata": {
        "colab": {
          "base_uri": "https://localhost:8080/",
          "height": 35
        },
        "id": "ZNYPhSlDw0Ho",
        "outputId": "4920aa4c-682b-4487-883b-2b6bc09d4e9b"
      },
      "execution_count": 38,
      "outputs": [
        {
          "output_type": "execute_result",
          "data": {
            "text/plain": [
              "'ship'"
            ],
            "application/vnd.google.colaboratory.intrinsic+json": {
              "type": "string"
            }
          },
          "metadata": {},
          "execution_count": 38
        }
      ]
    },
    {
      "cell_type": "code",
      "source": [
        "print(\"Classification Report: \\n\", classification_report(y_test, y_classes))"
      ],
      "metadata": {
        "colab": {
          "base_uri": "https://localhost:8080/"
        },
        "id": "bWx6IARFxOyB",
        "outputId": "94a7d276-e7be-467b-b2ec-4f03bce445b6"
      },
      "execution_count": 47,
      "outputs": [
        {
          "output_type": "stream",
          "name": "stdout",
          "text": [
            "Classification Report: \n",
            "               precision    recall  f1-score   support\n",
            "\n",
            "           0       0.71      0.76      0.74      1000\n",
            "           1       0.80      0.81      0.81      1000\n",
            "           2       0.61      0.58      0.59      1000\n",
            "           3       0.56      0.48      0.51      1000\n",
            "           4       0.65      0.66      0.66      1000\n",
            "           5       0.57      0.68      0.62      1000\n",
            "           6       0.80      0.72      0.76      1000\n",
            "           7       0.73      0.78      0.75      1000\n",
            "           8       0.78      0.80      0.79      1000\n",
            "           9       0.81      0.75      0.78      1000\n",
            "\n",
            "    accuracy                           0.70     10000\n",
            "   macro avg       0.70      0.70      0.70     10000\n",
            "weighted avg       0.70      0.70      0.70     10000\n",
            "\n"
          ]
        }
      ]
    },
    {
      "cell_type": "code",
      "source": [],
      "metadata": {
        "id": "ZZIhc-Z7x4Dp"
      },
      "execution_count": null,
      "outputs": []
    }
  ]
}